{
 "cells": [
  {
   "cell_type": "markdown",
   "id": "29666479",
   "metadata": {},
   "source": [
    "# Aprendendo a programar em Python! \n",
    "\n",
    "# Gerando orçamento em PDF!\n",
    "\n",
    "- Nome do projeto\n",
    "- Quantidade de horas estimadas.\n",
    "- valor da hora\n",
    "- prazo de entrega estimado\n",
    "- Valor total estimado"
   ]
  },
  {
   "cell_type": "code",
   "execution_count": 27,
   "id": "45eb4479",
   "metadata": {},
   "outputs": [
    {
     "name": "stdout",
     "output_type": "stream",
     "text": [
      "Qual o nome do projeto : Gerando orçamento em pdf!\n",
      "Quantidade de horas estimadas do projeto: 3\n",
      "Qual o valor da hora de trabalho : R$ 100\n",
      "Prazo de entrega estimado: 1 dia\n"
     ]
    }
   ],
   "source": [
    "nome_projeto = input(\"Qual o nome do projeto : \")\n",
    "horas_estimadas = input(\"Quantidade de horas estimadas do projeto: \")\n",
    "valor_hora = input(\"Qual o valor da hora de trabalho : R$ \")\n",
    "prazo_estimado = input(\"Prazo de entrega estimado: \")\n",
    "valor_total_estimado = int(horas_estimadas) * int(valor_hora)\n"
   ]
  },
  {
   "cell_type": "markdown",
   "id": "b5d8acaf",
   "metadata": {},
   "source": [
    "# Instalando a biblioteca fpdf."
   ]
  },
  {
   "cell_type": "code",
   "execution_count": 10,
   "id": "969ee8fd",
   "metadata": {
    "scrolled": true
   },
   "outputs": [
    {
     "name": "stdout",
     "output_type": "stream",
     "text": [
      "Requirement already satisfied: fpdf in c:\\users\\elmon\\anaconda3\\lib\\site-packages (1.7.2)\n"
     ]
    }
   ],
   "source": [
    "!pip install fpdf"
   ]
  },
  {
   "cell_type": "code",
   "execution_count": 11,
   "id": "39886ff3",
   "metadata": {},
   "outputs": [],
   "source": [
    "from fpdf import FPDF"
   ]
  },
  {
   "cell_type": "code",
   "execution_count": 31,
   "id": "dd0745f3",
   "metadata": {},
   "outputs": [
    {
     "name": "stdout",
     "output_type": "stream",
     "text": [
      "Qual a fonte do texto?times\n",
      "Qual o nome do PDF desejado?Novo\n"
     ]
    }
   ],
   "source": [
    "fonte = input(\"Qual a fonte do texto?\")\n",
    "nome_arquivo = input(\"Qual o nome do PDF desejado?\")"
   ]
  },
  {
   "cell_type": "code",
   "execution_count": 32,
   "id": "9f2c853a",
   "metadata": {},
   "outputs": [
    {
     "data": {
      "text/plain": [
       "''"
      ]
     },
     "execution_count": 32,
     "metadata": {},
     "output_type": "execute_result"
    }
   ],
   "source": [
    "pdf = FPDF()\n",
    "pdf.add_page()\n",
    "pdf.set_font(fonte, \"I\" , 15)\n",
    "pdf.image(\"template.png\", x=0 , y=0)\n",
    "pdf.text(115 , 145 , nome_projeto)\n",
    "pdf.text(115 , 160 , horas_estimadas)\n",
    "pdf.text(115 , 175 , valor_hora)\n",
    "pdf.text(115 , 190 , prazo_estimado)\n",
    "pdf.text(115 , 205 , str(valor_total_estimado))\n",
    "\n",
    "pdf.output(nome_arquivo)\n"
   ]
  },
  {
   "cell_type": "code",
   "execution_count": null,
   "id": "364ea677",
   "metadata": {},
   "outputs": [],
   "source": []
  },
  {
   "cell_type": "code",
   "execution_count": null,
   "id": "73b82299",
   "metadata": {},
   "outputs": [],
   "source": []
  },
  {
   "cell_type": "code",
   "execution_count": null,
   "id": "8ff5d5d5",
   "metadata": {},
   "outputs": [],
   "source": []
  },
  {
   "cell_type": "code",
   "execution_count": null,
   "id": "27e8d2fc",
   "metadata": {},
   "outputs": [],
   "source": []
  },
  {
   "cell_type": "code",
   "execution_count": null,
   "id": "84c528c8",
   "metadata": {},
   "outputs": [],
   "source": []
  },
  {
   "cell_type": "code",
   "execution_count": null,
   "id": "78493523",
   "metadata": {},
   "outputs": [],
   "source": []
  }
 ],
 "metadata": {
  "kernelspec": {
   "display_name": "Python 3 (ipykernel)",
   "language": "python",
   "name": "python3"
  },
  "language_info": {
   "codemirror_mode": {
    "name": "ipython",
    "version": 3
   },
   "file_extension": ".py",
   "mimetype": "text/x-python",
   "name": "python",
   "nbconvert_exporter": "python",
   "pygments_lexer": "ipython3",
   "version": "3.9.13"
  }
 },
 "nbformat": 4,
 "nbformat_minor": 5
}
